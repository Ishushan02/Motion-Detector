{
 "cells": [
  {
   "cell_type": "code",
   "execution_count": 1,
   "metadata": {},
   "outputs": [],
   "source": [
    "import cv2\n",
    "#importing the OpenCV library"
   ]
  },
  {
   "cell_type": "code",
   "execution_count": 3,
   "metadata": {},
   "outputs": [],
   "source": [
    "#Webcam = cv2.VideoCapture(1) # this is to capture video through Webcam\n",
    "Webcam = cv2.VideoCapture(\"D:\\study\\OpenCV\\Car_movement.avi\")\n",
    "\n",
    "Webcam.set(3, 500)# this is to set the length of the Webcam\n",
    "Webcam.set(4, 300)# this is to set the Breadth of the Webcam\n",
    "\n",
    "check, first_frame = Webcam.read() #Capturing the First Frame from the Camera\n",
    "check, second_frame = Webcam.read() # Capturing the Second_Frame from the camera\n",
    "# this is done to check the difference between both the frames so that motion can be detected\n",
    "\n",
    "while True:\n",
    "    frame_difference = cv2.absdiff(first_frame, second_frame)\n",
    "    # this captures the Difference of the First Frame and Second Frame\n",
    "    \n",
    "    gray_image = cv2.cvtColor(frame_difference, cv2.COLOR_BGR2GRAY)\n",
    "    #converting the captured difference in to black and white image to get better values so that it can be passed on for Blur Image\n",
    "    \n",
    "    blur_image = cv2.GaussianBlur(gray_image, (5, 5), 0)\n",
    "    # the ttributes for Gaussian Blur are (the sourch gray_image, the_Kernel_size, sigma_X_value)\n",
    "    \n",
    "    retrival_value, threshold = cv2.threshold(blur_image, 20, 255, cv2.THRESH_BINARY)\n",
    "    #this sets the threshold Value in which if the pixel value is less than 20 the color is set to white or else it is changed to max_value(255 here)\n",
    "    # retrival_value stores the threshold value (20 here and it changes as specified by user)\n",
    "    \n",
    "    dilated_image = cv2.dilate(threshold, None, iterations = 3)\n",
    "    # this forms the dilated Image of it (taking s=input the threshold image, kernal, and Iterations)\n",
    "    \n",
    "    images, contours, hierarchy = cv2.findContours(dilated_image, cv2.RETR_TREE, cv2.CHAIN_APPROX_NONE)\n",
    "    # we get contour value of the image in the required frame\n",
    "    \n",
    "    # cv2.drawContours(first_frame, contours, -1, (0, 255, 255), 2) , this can be used to draw the irregular contours around the boundary\n",
    "    #or else drawing rectangle boundaries\n",
    "    \n",
    "    for each_contor in contours :\n",
    "        (x, y, w, h) = cv2.boundingRect(each_contor)\n",
    "        #the dimension of the rectangle\n",
    "        \n",
    "       # if cv2.contourArea(each_contor) < 500:\n",
    "          #  continue\n",
    "        #removing all the small pixel(less than 700 pixels) for recognition\n",
    "        \n",
    "        cv2.rectangle(first_frame, (x, y), (x + w, y + h), (0, 255, 255), 2)\n",
    "    \n",
    "    cv2.imshow(\"the captured Video\", first_frame)\n",
    "    cv2.imshow(\"Frame Difference Image\", frame_difference)\n",
    "    cv2.imshow(\"Gray Image\", gray_image)\n",
    "    cv2.imshow(\"Blur Image\", blur_image)\n",
    "    cv2.imshow(\"Threshold Image\", threshold)\n",
    "    cv2.imshow(\"Dialated Image\", dilated_image)\n",
    "    #showing all different captured Frames\n",
    "\n",
    "    first_frame = second_frame\n",
    "    check, second_frame = Webcam.read() # Capturing the Second_Frame from the camera\n",
    "    \n",
    "    key = cv2.waitKey(1)\n",
    "    if key == ord('a'):\n",
    "        break\n",
    "    \n",
    "Webcam.release()\n",
    "cv2.destroyAllWindows()\n",
    "    "
   ]
  },
  {
   "cell_type": "code",
   "execution_count": null,
   "metadata": {},
   "outputs": [],
   "source": []
  }
 ],
 "metadata": {
  "kernelspec": {
   "display_name": "Python 3",
   "language": "python",
   "name": "python3"
  },
  "language_info": {
   "codemirror_mode": {
    "name": "ipython",
    "version": 3
   },
   "file_extension": ".py",
   "mimetype": "text/x-python",
   "name": "python",
   "nbconvert_exporter": "python",
   "pygments_lexer": "ipython3",
   "version": "3.7.3"
  }
 },
 "nbformat": 4,
 "nbformat_minor": 2
}
